{
  "cells": [
    {
      "cell_type": "code",
      "execution_count": 23,
      "metadata": {
        "colab": {
          "base_uri": "https://localhost:8080/"
        },
        "id": "NoCCbFNDALHF",
        "outputId": "befcb124-694b-420d-e8b3-e7f8836c3ffd"
      },
      "outputs": [
        {
          "name": "stdout",
          "output_type": "stream",
          "text": [
            "Data array: [ 1.          1.          1.         -1.          0.45       -1.\n",
            "  0.1        -1.          0.45       -0.03599942  1.         -0.0176371\n",
            "  1.         -0.00772178  1.        ]\n",
            "Column indices: [1 2 3 1 4 2 5 3 6 0 4 0 5 0 6]\n",
            "Index pointer array: [ 0  3  5  7  9 11 13 15]\n",
            "Shape: (7, 7)\n",
            "Number of non-zero elements: 15\n",
            "Data type: float64\n"
          ]
        }
      ],
      "source": [
        "import scipy.io\n",
        "import scipy.sparse\n",
        "\n",
        "# Load the matrix from the .mtx file\n",
        "matrix = scipy.io.mmread('/content/drive/MyDrive/b1_ss.mtx')\n",
        "\n",
        "# Convert the matrix to CSR format\n",
        "csr_matrix = matrix.tocsr()\n",
        "\n",
        "print(\"Data array:\", csr_matrix.data)\n",
        "print(\"Column indices:\", csr_matrix.indices)\n",
        "print(\"Index pointer array:\", csr_matrix.indptr)\n",
        "print(\"Shape:\", csr_matrix.shape)\n",
        "print(\"Number of non-zero elements:\", csr_matrix.nnz)\n",
        "print(\"Data type:\", csr_matrix.dtype)"
      ]
    },
    {
      "cell_type": "code",
      "execution_count": 24,
      "metadata": {
        "colab": {
          "base_uri": "https://localhost:8080/"
        },
        "id": "e7yJ94KXNFYZ",
        "outputId": "e7c63827-5451-4bd9-a91d-d6f8fb5b7d33"
      },
      "outputs": [
        {
          "name": "stdout",
          "output_type": "stream",
          "text": [
            "A_csr shape: (9, 9)\n",
            "B_csr shape: (9, 13)\n"
          ]
        }
      ],
      "source": [
        "# Load the matrices from the .mtx files\n",
        "A = scipy.io.mmread('/content/drive/MyDrive/jgl009.mtx')\n",
        "B = scipy.io.mmread('/content/drive/MyDrive/lpi_itest2.mtx')\n",
        "\n",
        "# Convert the matrices to CSR format\n",
        "A_csr = A.tocsr()\n",
        "B_csr = B.tocsr()\n",
        "\n",
        "# Print the shapes to ensure they are compatible for multiplication\n",
        "print(f\"A_csr shape: {A_csr.shape}\")\n",
        "print(f\"B_csr shape: {B_csr.shape}\")"
      ]
    },
    {
      "cell_type": "code",
      "execution_count": 25,
      "metadata": {
        "colab": {
          "base_uri": "https://localhost:8080/"
        },
        "id": "FGuFDeBEN02n",
        "outputId": "747a64a6-cbdf-4544-d2ed-83b73521fe7d"
      },
      "outputs": [
        {
          "name": "stdout",
          "output_type": "stream",
          "text": [
            "Data array: [ 1.  -1.   1.   1.   2.   0.5 -1.   1.  -1.   1.   1.   1.  -1.   2.\n",
            "  5.5 -1.   1.  -1.   1.   1.   1.   1.   6.  -1.  -1.   4.   1.   1.\n",
            "  1.   2.   2.5 -1.  -1.   4.   1.   1.   1.   2.   2.5 -1.  -1.   4.\n",
            "  1.   1.   1.   2.   2.5 -1.  -1.   4.   1.   1.   1.   2.   2.5 -1.\n",
            " -1.   1.   1.  -1.   6.   1.   1.   1.   1.  -1.   4.   6.5 -1.  -1.\n",
            "  1.   1.  -1.   6.   1.   1.   1.   1.  -1.   4.   6.5 -1. ]\n",
            "Column indices: [11  8 12  6 10  9  0 11  8 12  6  2  1 10  9  0 11  8 12  6  2 10  9  1\n",
            "  5 11  4  3  2 10  9  0  5 11  4  3  2 10  9  0  5 11  4  3  2 10  9  0\n",
            "  5 11  4  3  2 10  9  0  8  7  6  5 11  4 12  3  2  1 10  9  0  8  7  6\n",
            "  5 11  4 12  3  2  1 10  9  0]\n",
            "Index pointer array: [ 0  7 16 24 32 40 48 56 69 82]\n",
            "Shape: (9, 13)\n",
            "Number of non-zero elements: 82\n",
            "Data type: float64\n"
          ]
        }
      ],
      "source": [
        "# Compute the product of the two CSR matrices\n",
        "C_csr = A_csr.dot(B_csr)\n",
        "\n",
        "print(\"Data array:\", C_csr.data)\n",
        "print(\"Column indices:\", C_csr.indices)\n",
        "print(\"Index pointer array:\", C_csr.indptr)\n",
        "print(\"Shape:\", C_csr.shape)\n",
        "print(\"Number of non-zero elements:\", C_csr.nnz)\n",
        "print(\"Data type:\", C_csr.dtype)"
      ]
    }
  ],
  "metadata": {
    "colab": {
      "provenance": []
    },
    "kernelspec": {
      "display_name": "Python 3",
      "name": "python3"
    },
    "language_info": {
      "name": "python"
    }
  },
  "nbformat": 4,
  "nbformat_minor": 0
}
